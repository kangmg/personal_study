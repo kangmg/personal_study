{
  "nbformat": 4,
  "nbformat_minor": 0,
  "metadata": {
    "colab": {
      "provenance": [],
      "authorship_tag": "ABX9TyO8DE59hiW0MLVjLoepjlIK",
      "include_colab_link": true
    },
    "kernelspec": {
      "name": "python3",
      "display_name": "Python 3"
    },
    "language_info": {
      "name": "python"
    },
    "widgets": {
      "application/vnd.jupyter.widget-state+json": {
        "fe8966831ed747a0828a499e6fceb4a2": {
          "model_module": "@jupyter-widgets/controls",
          "model_name": "HBoxModel",
          "model_module_version": "1.5.0",
          "state": {
            "_dom_classes": [],
            "_model_module": "@jupyter-widgets/controls",
            "_model_module_version": "1.5.0",
            "_model_name": "HBoxModel",
            "_view_count": null,
            "_view_module": "@jupyter-widgets/controls",
            "_view_module_version": "1.5.0",
            "_view_name": "HBoxView",
            "box_style": "",
            "children": [
              "IPY_MODEL_608e50dc80484e56846285d88085fd6f",
              "IPY_MODEL_6b88dda1f14c4a4289915a57de6bb0d0",
              "IPY_MODEL_31f6776c5f444d55b5ea65025bfdba73"
            ],
            "layout": "IPY_MODEL_ae67d40eb473431c9827c0fda0986f4b"
          }
        },
        "608e50dc80484e56846285d88085fd6f": {
          "model_module": "@jupyter-widgets/controls",
          "model_name": "HTMLModel",
          "model_module_version": "1.5.0",
          "state": {
            "_dom_classes": [],
            "_model_module": "@jupyter-widgets/controls",
            "_model_module_version": "1.5.0",
            "_model_name": "HTMLModel",
            "_view_count": null,
            "_view_module": "@jupyter-widgets/controls",
            "_view_module_version": "1.5.0",
            "_view_name": "HTMLView",
            "description": "",
            "description_tooltip": null,
            "layout": "IPY_MODEL_b0a133aba9b14835b63a4ecaab41c91a",
            "placeholder": "​",
            "style": "IPY_MODEL_f887123cef484300bf146a011e36973d",
            "value": "Retrieving SummaryDoc documents: 100%"
          }
        },
        "6b88dda1f14c4a4289915a57de6bb0d0": {
          "model_module": "@jupyter-widgets/controls",
          "model_name": "FloatProgressModel",
          "model_module_version": "1.5.0",
          "state": {
            "_dom_classes": [],
            "_model_module": "@jupyter-widgets/controls",
            "_model_module_version": "1.5.0",
            "_model_name": "FloatProgressModel",
            "_view_count": null,
            "_view_module": "@jupyter-widgets/controls",
            "_view_module_version": "1.5.0",
            "_view_name": "ProgressView",
            "bar_style": "success",
            "description": "",
            "description_tooltip": null,
            "layout": "IPY_MODEL_14efb8a5f867414b9ffbed1037b99966",
            "max": 487,
            "min": 0,
            "orientation": "horizontal",
            "style": "IPY_MODEL_0883e222ee2744b3bc205a2e7ee8376c",
            "value": 487
          }
        },
        "31f6776c5f444d55b5ea65025bfdba73": {
          "model_module": "@jupyter-widgets/controls",
          "model_name": "HTMLModel",
          "model_module_version": "1.5.0",
          "state": {
            "_dom_classes": [],
            "_model_module": "@jupyter-widgets/controls",
            "_model_module_version": "1.5.0",
            "_model_name": "HTMLModel",
            "_view_count": null,
            "_view_module": "@jupyter-widgets/controls",
            "_view_module_version": "1.5.0",
            "_view_name": "HTMLView",
            "description": "",
            "description_tooltip": null,
            "layout": "IPY_MODEL_d4cbf7b928254f5c92d6138490984eb4",
            "placeholder": "​",
            "style": "IPY_MODEL_ed0c9b50af83405ea733d651ba482ff6",
            "value": " 487/487 [00:00&lt;00:00, 18829.00it/s]"
          }
        },
        "ae67d40eb473431c9827c0fda0986f4b": {
          "model_module": "@jupyter-widgets/base",
          "model_name": "LayoutModel",
          "model_module_version": "1.2.0",
          "state": {
            "_model_module": "@jupyter-widgets/base",
            "_model_module_version": "1.2.0",
            "_model_name": "LayoutModel",
            "_view_count": null,
            "_view_module": "@jupyter-widgets/base",
            "_view_module_version": "1.2.0",
            "_view_name": "LayoutView",
            "align_content": null,
            "align_items": null,
            "align_self": null,
            "border": null,
            "bottom": null,
            "display": null,
            "flex": null,
            "flex_flow": null,
            "grid_area": null,
            "grid_auto_columns": null,
            "grid_auto_flow": null,
            "grid_auto_rows": null,
            "grid_column": null,
            "grid_gap": null,
            "grid_row": null,
            "grid_template_areas": null,
            "grid_template_columns": null,
            "grid_template_rows": null,
            "height": null,
            "justify_content": null,
            "justify_items": null,
            "left": null,
            "margin": null,
            "max_height": null,
            "max_width": null,
            "min_height": null,
            "min_width": null,
            "object_fit": null,
            "object_position": null,
            "order": null,
            "overflow": null,
            "overflow_x": null,
            "overflow_y": null,
            "padding": null,
            "right": null,
            "top": null,
            "visibility": null,
            "width": null
          }
        },
        "b0a133aba9b14835b63a4ecaab41c91a": {
          "model_module": "@jupyter-widgets/base",
          "model_name": "LayoutModel",
          "model_module_version": "1.2.0",
          "state": {
            "_model_module": "@jupyter-widgets/base",
            "_model_module_version": "1.2.0",
            "_model_name": "LayoutModel",
            "_view_count": null,
            "_view_module": "@jupyter-widgets/base",
            "_view_module_version": "1.2.0",
            "_view_name": "LayoutView",
            "align_content": null,
            "align_items": null,
            "align_self": null,
            "border": null,
            "bottom": null,
            "display": null,
            "flex": null,
            "flex_flow": null,
            "grid_area": null,
            "grid_auto_columns": null,
            "grid_auto_flow": null,
            "grid_auto_rows": null,
            "grid_column": null,
            "grid_gap": null,
            "grid_row": null,
            "grid_template_areas": null,
            "grid_template_columns": null,
            "grid_template_rows": null,
            "height": null,
            "justify_content": null,
            "justify_items": null,
            "left": null,
            "margin": null,
            "max_height": null,
            "max_width": null,
            "min_height": null,
            "min_width": null,
            "object_fit": null,
            "object_position": null,
            "order": null,
            "overflow": null,
            "overflow_x": null,
            "overflow_y": null,
            "padding": null,
            "right": null,
            "top": null,
            "visibility": null,
            "width": null
          }
        },
        "f887123cef484300bf146a011e36973d": {
          "model_module": "@jupyter-widgets/controls",
          "model_name": "DescriptionStyleModel",
          "model_module_version": "1.5.0",
          "state": {
            "_model_module": "@jupyter-widgets/controls",
            "_model_module_version": "1.5.0",
            "_model_name": "DescriptionStyleModel",
            "_view_count": null,
            "_view_module": "@jupyter-widgets/base",
            "_view_module_version": "1.2.0",
            "_view_name": "StyleView",
            "description_width": ""
          }
        },
        "14efb8a5f867414b9ffbed1037b99966": {
          "model_module": "@jupyter-widgets/base",
          "model_name": "LayoutModel",
          "model_module_version": "1.2.0",
          "state": {
            "_model_module": "@jupyter-widgets/base",
            "_model_module_version": "1.2.0",
            "_model_name": "LayoutModel",
            "_view_count": null,
            "_view_module": "@jupyter-widgets/base",
            "_view_module_version": "1.2.0",
            "_view_name": "LayoutView",
            "align_content": null,
            "align_items": null,
            "align_self": null,
            "border": null,
            "bottom": null,
            "display": null,
            "flex": null,
            "flex_flow": null,
            "grid_area": null,
            "grid_auto_columns": null,
            "grid_auto_flow": null,
            "grid_auto_rows": null,
            "grid_column": null,
            "grid_gap": null,
            "grid_row": null,
            "grid_template_areas": null,
            "grid_template_columns": null,
            "grid_template_rows": null,
            "height": null,
            "justify_content": null,
            "justify_items": null,
            "left": null,
            "margin": null,
            "max_height": null,
            "max_width": null,
            "min_height": null,
            "min_width": null,
            "object_fit": null,
            "object_position": null,
            "order": null,
            "overflow": null,
            "overflow_x": null,
            "overflow_y": null,
            "padding": null,
            "right": null,
            "top": null,
            "visibility": null,
            "width": null
          }
        },
        "0883e222ee2744b3bc205a2e7ee8376c": {
          "model_module": "@jupyter-widgets/controls",
          "model_name": "ProgressStyleModel",
          "model_module_version": "1.5.0",
          "state": {
            "_model_module": "@jupyter-widgets/controls",
            "_model_module_version": "1.5.0",
            "_model_name": "ProgressStyleModel",
            "_view_count": null,
            "_view_module": "@jupyter-widgets/base",
            "_view_module_version": "1.2.0",
            "_view_name": "StyleView",
            "bar_color": null,
            "description_width": ""
          }
        },
        "d4cbf7b928254f5c92d6138490984eb4": {
          "model_module": "@jupyter-widgets/base",
          "model_name": "LayoutModel",
          "model_module_version": "1.2.0",
          "state": {
            "_model_module": "@jupyter-widgets/base",
            "_model_module_version": "1.2.0",
            "_model_name": "LayoutModel",
            "_view_count": null,
            "_view_module": "@jupyter-widgets/base",
            "_view_module_version": "1.2.0",
            "_view_name": "LayoutView",
            "align_content": null,
            "align_items": null,
            "align_self": null,
            "border": null,
            "bottom": null,
            "display": null,
            "flex": null,
            "flex_flow": null,
            "grid_area": null,
            "grid_auto_columns": null,
            "grid_auto_flow": null,
            "grid_auto_rows": null,
            "grid_column": null,
            "grid_gap": null,
            "grid_row": null,
            "grid_template_areas": null,
            "grid_template_columns": null,
            "grid_template_rows": null,
            "height": null,
            "justify_content": null,
            "justify_items": null,
            "left": null,
            "margin": null,
            "max_height": null,
            "max_width": null,
            "min_height": null,
            "min_width": null,
            "object_fit": null,
            "object_position": null,
            "order": null,
            "overflow": null,
            "overflow_x": null,
            "overflow_y": null,
            "padding": null,
            "right": null,
            "top": null,
            "visibility": null,
            "width": null
          }
        },
        "ed0c9b50af83405ea733d651ba482ff6": {
          "model_module": "@jupyter-widgets/controls",
          "model_name": "DescriptionStyleModel",
          "model_module_version": "1.5.0",
          "state": {
            "_model_module": "@jupyter-widgets/controls",
            "_model_module_version": "1.5.0",
            "_model_name": "DescriptionStyleModel",
            "_view_count": null,
            "_view_module": "@jupyter-widgets/base",
            "_view_module_version": "1.2.0",
            "_view_name": "StyleView",
            "description_width": ""
          }
        },
        "fdbebe102e264aaf8211de57d1e4ade6": {
          "model_module": "@jupyter-widgets/controls",
          "model_name": "HBoxModel",
          "model_module_version": "1.5.0",
          "state": {
            "_dom_classes": [],
            "_model_module": "@jupyter-widgets/controls",
            "_model_module_version": "1.5.0",
            "_model_name": "HBoxModel",
            "_view_count": null,
            "_view_module": "@jupyter-widgets/controls",
            "_view_module_version": "1.5.0",
            "_view_name": "HBoxView",
            "box_style": "",
            "children": [
              "IPY_MODEL_b8916066391d4db2aa4426b2bef3faf5",
              "IPY_MODEL_26d1b4a32d8a42dc89ba73e55bd6365b",
              "IPY_MODEL_09043ac3df1d48e0856688296957935c"
            ],
            "layout": "IPY_MODEL_c7095d20a06b4157899108958a634543"
          }
        },
        "b8916066391d4db2aa4426b2bef3faf5": {
          "model_module": "@jupyter-widgets/controls",
          "model_name": "HTMLModel",
          "model_module_version": "1.5.0",
          "state": {
            "_dom_classes": [],
            "_model_module": "@jupyter-widgets/controls",
            "_model_module_version": "1.5.0",
            "_model_name": "HTMLModel",
            "_view_count": null,
            "_view_module": "@jupyter-widgets/controls",
            "_view_module_version": "1.5.0",
            "_view_name": "HTMLView",
            "description": "",
            "description_tooltip": null,
            "layout": "IPY_MODEL_1a69ace7bed04083bcf995f8b7be0d68",
            "placeholder": "​",
            "style": "IPY_MODEL_0c22ef832148409cacc6fae0de341359",
            "value": "Retrieving SummaryDoc documents: 100%"
          }
        },
        "26d1b4a32d8a42dc89ba73e55bd6365b": {
          "model_module": "@jupyter-widgets/controls",
          "model_name": "FloatProgressModel",
          "model_module_version": "1.5.0",
          "state": {
            "_dom_classes": [],
            "_model_module": "@jupyter-widgets/controls",
            "_model_module_version": "1.5.0",
            "_model_name": "FloatProgressModel",
            "_view_count": null,
            "_view_module": "@jupyter-widgets/controls",
            "_view_module_version": "1.5.0",
            "_view_name": "ProgressView",
            "bar_style": "success",
            "description": "",
            "description_tooltip": null,
            "layout": "IPY_MODEL_54f7b23d0e2a40bd80fc4b956d33795f",
            "max": 3000,
            "min": 0,
            "orientation": "horizontal",
            "style": "IPY_MODEL_4e18f9366dc54951b91da6788e0b6f78",
            "value": 3000
          }
        },
        "09043ac3df1d48e0856688296957935c": {
          "model_module": "@jupyter-widgets/controls",
          "model_name": "HTMLModel",
          "model_module_version": "1.5.0",
          "state": {
            "_dom_classes": [],
            "_model_module": "@jupyter-widgets/controls",
            "_model_module_version": "1.5.0",
            "_model_name": "HTMLModel",
            "_view_count": null,
            "_view_module": "@jupyter-widgets/controls",
            "_view_module_version": "1.5.0",
            "_view_name": "HTMLView",
            "description": "",
            "description_tooltip": null,
            "layout": "IPY_MODEL_a6a3cbef4030448582c7c9fc8e677f22",
            "placeholder": "​",
            "style": "IPY_MODEL_60cb411252574bf08d6e6585c0eb361e",
            "value": " 3000/3000 [00:17&lt;00:00, 267.95it/s]"
          }
        },
        "c7095d20a06b4157899108958a634543": {
          "model_module": "@jupyter-widgets/base",
          "model_name": "LayoutModel",
          "model_module_version": "1.2.0",
          "state": {
            "_model_module": "@jupyter-widgets/base",
            "_model_module_version": "1.2.0",
            "_model_name": "LayoutModel",
            "_view_count": null,
            "_view_module": "@jupyter-widgets/base",
            "_view_module_version": "1.2.0",
            "_view_name": "LayoutView",
            "align_content": null,
            "align_items": null,
            "align_self": null,
            "border": null,
            "bottom": null,
            "display": null,
            "flex": null,
            "flex_flow": null,
            "grid_area": null,
            "grid_auto_columns": null,
            "grid_auto_flow": null,
            "grid_auto_rows": null,
            "grid_column": null,
            "grid_gap": null,
            "grid_row": null,
            "grid_template_areas": null,
            "grid_template_columns": null,
            "grid_template_rows": null,
            "height": null,
            "justify_content": null,
            "justify_items": null,
            "left": null,
            "margin": null,
            "max_height": null,
            "max_width": null,
            "min_height": null,
            "min_width": null,
            "object_fit": null,
            "object_position": null,
            "order": null,
            "overflow": null,
            "overflow_x": null,
            "overflow_y": null,
            "padding": null,
            "right": null,
            "top": null,
            "visibility": null,
            "width": null
          }
        },
        "1a69ace7bed04083bcf995f8b7be0d68": {
          "model_module": "@jupyter-widgets/base",
          "model_name": "LayoutModel",
          "model_module_version": "1.2.0",
          "state": {
            "_model_module": "@jupyter-widgets/base",
            "_model_module_version": "1.2.0",
            "_model_name": "LayoutModel",
            "_view_count": null,
            "_view_module": "@jupyter-widgets/base",
            "_view_module_version": "1.2.0",
            "_view_name": "LayoutView",
            "align_content": null,
            "align_items": null,
            "align_self": null,
            "border": null,
            "bottom": null,
            "display": null,
            "flex": null,
            "flex_flow": null,
            "grid_area": null,
            "grid_auto_columns": null,
            "grid_auto_flow": null,
            "grid_auto_rows": null,
            "grid_column": null,
            "grid_gap": null,
            "grid_row": null,
            "grid_template_areas": null,
            "grid_template_columns": null,
            "grid_template_rows": null,
            "height": null,
            "justify_content": null,
            "justify_items": null,
            "left": null,
            "margin": null,
            "max_height": null,
            "max_width": null,
            "min_height": null,
            "min_width": null,
            "object_fit": null,
            "object_position": null,
            "order": null,
            "overflow": null,
            "overflow_x": null,
            "overflow_y": null,
            "padding": null,
            "right": null,
            "top": null,
            "visibility": null,
            "width": null
          }
        },
        "0c22ef832148409cacc6fae0de341359": {
          "model_module": "@jupyter-widgets/controls",
          "model_name": "DescriptionStyleModel",
          "model_module_version": "1.5.0",
          "state": {
            "_model_module": "@jupyter-widgets/controls",
            "_model_module_version": "1.5.0",
            "_model_name": "DescriptionStyleModel",
            "_view_count": null,
            "_view_module": "@jupyter-widgets/base",
            "_view_module_version": "1.2.0",
            "_view_name": "StyleView",
            "description_width": ""
          }
        },
        "54f7b23d0e2a40bd80fc4b956d33795f": {
          "model_module": "@jupyter-widgets/base",
          "model_name": "LayoutModel",
          "model_module_version": "1.2.0",
          "state": {
            "_model_module": "@jupyter-widgets/base",
            "_model_module_version": "1.2.0",
            "_model_name": "LayoutModel",
            "_view_count": null,
            "_view_module": "@jupyter-widgets/base",
            "_view_module_version": "1.2.0",
            "_view_name": "LayoutView",
            "align_content": null,
            "align_items": null,
            "align_self": null,
            "border": null,
            "bottom": null,
            "display": null,
            "flex": null,
            "flex_flow": null,
            "grid_area": null,
            "grid_auto_columns": null,
            "grid_auto_flow": null,
            "grid_auto_rows": null,
            "grid_column": null,
            "grid_gap": null,
            "grid_row": null,
            "grid_template_areas": null,
            "grid_template_columns": null,
            "grid_template_rows": null,
            "height": null,
            "justify_content": null,
            "justify_items": null,
            "left": null,
            "margin": null,
            "max_height": null,
            "max_width": null,
            "min_height": null,
            "min_width": null,
            "object_fit": null,
            "object_position": null,
            "order": null,
            "overflow": null,
            "overflow_x": null,
            "overflow_y": null,
            "padding": null,
            "right": null,
            "top": null,
            "visibility": null,
            "width": null
          }
        },
        "4e18f9366dc54951b91da6788e0b6f78": {
          "model_module": "@jupyter-widgets/controls",
          "model_name": "ProgressStyleModel",
          "model_module_version": "1.5.0",
          "state": {
            "_model_module": "@jupyter-widgets/controls",
            "_model_module_version": "1.5.0",
            "_model_name": "ProgressStyleModel",
            "_view_count": null,
            "_view_module": "@jupyter-widgets/base",
            "_view_module_version": "1.2.0",
            "_view_name": "StyleView",
            "bar_color": null,
            "description_width": ""
          }
        },
        "a6a3cbef4030448582c7c9fc8e677f22": {
          "model_module": "@jupyter-widgets/base",
          "model_name": "LayoutModel",
          "model_module_version": "1.2.0",
          "state": {
            "_model_module": "@jupyter-widgets/base",
            "_model_module_version": "1.2.0",
            "_model_name": "LayoutModel",
            "_view_count": null,
            "_view_module": "@jupyter-widgets/base",
            "_view_module_version": "1.2.0",
            "_view_name": "LayoutView",
            "align_content": null,
            "align_items": null,
            "align_self": null,
            "border": null,
            "bottom": null,
            "display": null,
            "flex": null,
            "flex_flow": null,
            "grid_area": null,
            "grid_auto_columns": null,
            "grid_auto_flow": null,
            "grid_auto_rows": null,
            "grid_column": null,
            "grid_gap": null,
            "grid_row": null,
            "grid_template_areas": null,
            "grid_template_columns": null,
            "grid_template_rows": null,
            "height": null,
            "justify_content": null,
            "justify_items": null,
            "left": null,
            "margin": null,
            "max_height": null,
            "max_width": null,
            "min_height": null,
            "min_width": null,
            "object_fit": null,
            "object_position": null,
            "order": null,
            "overflow": null,
            "overflow_x": null,
            "overflow_y": null,
            "padding": null,
            "right": null,
            "top": null,
            "visibility": null,
            "width": null
          }
        },
        "60cb411252574bf08d6e6585c0eb361e": {
          "model_module": "@jupyter-widgets/controls",
          "model_name": "DescriptionStyleModel",
          "model_module_version": "1.5.0",
          "state": {
            "_model_module": "@jupyter-widgets/controls",
            "_model_module_version": "1.5.0",
            "_model_name": "DescriptionStyleModel",
            "_view_count": null,
            "_view_module": "@jupyter-widgets/base",
            "_view_module_version": "1.2.0",
            "_view_name": "StyleView",
            "description_width": ""
          }
        },
        "20589e9e2aab4e4c8fac884e06f557cb": {
          "model_module": "@jupyter-widgets/controls",
          "model_name": "HBoxModel",
          "model_module_version": "1.5.0",
          "state": {
            "_dom_classes": [],
            "_model_module": "@jupyter-widgets/controls",
            "_model_module_version": "1.5.0",
            "_model_name": "HBoxModel",
            "_view_count": null,
            "_view_module": "@jupyter-widgets/controls",
            "_view_module_version": "1.5.0",
            "_view_name": "HBoxView",
            "box_style": "",
            "children": [
              "IPY_MODEL_6414786fafc9432bbf2bf2360fcd4a24",
              "IPY_MODEL_0f9ad6fb2945475b941e389022ff91fa",
              "IPY_MODEL_4d497ac9bc7541d6b52193a55229115b"
            ],
            "layout": "IPY_MODEL_9be3908dbd704201800c155c0e20851c"
          }
        },
        "6414786fafc9432bbf2bf2360fcd4a24": {
          "model_module": "@jupyter-widgets/controls",
          "model_name": "HTMLModel",
          "model_module_version": "1.5.0",
          "state": {
            "_dom_classes": [],
            "_model_module": "@jupyter-widgets/controls",
            "_model_module_version": "1.5.0",
            "_model_name": "HTMLModel",
            "_view_count": null,
            "_view_module": "@jupyter-widgets/controls",
            "_view_module_version": "1.5.0",
            "_view_name": "HTMLView",
            "description": "",
            "description_tooltip": null,
            "layout": "IPY_MODEL_b2e01f2dc10c417ca16949c56a1381d2",
            "placeholder": "​",
            "style": "IPY_MODEL_54d240a3b6ac4267ab8b216557d60bb1",
            "value": "Retrieving SummaryDoc documents: 100%"
          }
        },
        "0f9ad6fb2945475b941e389022ff91fa": {
          "model_module": "@jupyter-widgets/controls",
          "model_name": "FloatProgressModel",
          "model_module_version": "1.5.0",
          "state": {
            "_dom_classes": [],
            "_model_module": "@jupyter-widgets/controls",
            "_model_module_version": "1.5.0",
            "_model_name": "FloatProgressModel",
            "_view_count": null,
            "_view_module": "@jupyter-widgets/controls",
            "_view_module_version": "1.5.0",
            "_view_name": "ProgressView",
            "bar_style": "success",
            "description": "",
            "description_tooltip": null,
            "layout": "IPY_MODEL_18dcbc69c8a74830a8cdd95647aa87e7",
            "max": 100,
            "min": 0,
            "orientation": "horizontal",
            "style": "IPY_MODEL_0a686bab3a1844468e48ddedaebfe9b1",
            "value": 100
          }
        },
        "4d497ac9bc7541d6b52193a55229115b": {
          "model_module": "@jupyter-widgets/controls",
          "model_name": "HTMLModel",
          "model_module_version": "1.5.0",
          "state": {
            "_dom_classes": [],
            "_model_module": "@jupyter-widgets/controls",
            "_model_module_version": "1.5.0",
            "_model_name": "HTMLModel",
            "_view_count": null,
            "_view_module": "@jupyter-widgets/controls",
            "_view_module_version": "1.5.0",
            "_view_name": "HTMLView",
            "description": "",
            "description_tooltip": null,
            "layout": "IPY_MODEL_b0b2330e708f42d3a649a5e971ab88a2",
            "placeholder": "​",
            "style": "IPY_MODEL_654cee6845c14ba69faf19ed7d6d6c32",
            "value": " 100/100 [00:12&lt;00:00, 10.67it/s]"
          }
        },
        "9be3908dbd704201800c155c0e20851c": {
          "model_module": "@jupyter-widgets/base",
          "model_name": "LayoutModel",
          "model_module_version": "1.2.0",
          "state": {
            "_model_module": "@jupyter-widgets/base",
            "_model_module_version": "1.2.0",
            "_model_name": "LayoutModel",
            "_view_count": null,
            "_view_module": "@jupyter-widgets/base",
            "_view_module_version": "1.2.0",
            "_view_name": "LayoutView",
            "align_content": null,
            "align_items": null,
            "align_self": null,
            "border": null,
            "bottom": null,
            "display": null,
            "flex": null,
            "flex_flow": null,
            "grid_area": null,
            "grid_auto_columns": null,
            "grid_auto_flow": null,
            "grid_auto_rows": null,
            "grid_column": null,
            "grid_gap": null,
            "grid_row": null,
            "grid_template_areas": null,
            "grid_template_columns": null,
            "grid_template_rows": null,
            "height": null,
            "justify_content": null,
            "justify_items": null,
            "left": null,
            "margin": null,
            "max_height": null,
            "max_width": null,
            "min_height": null,
            "min_width": null,
            "object_fit": null,
            "object_position": null,
            "order": null,
            "overflow": null,
            "overflow_x": null,
            "overflow_y": null,
            "padding": null,
            "right": null,
            "top": null,
            "visibility": null,
            "width": null
          }
        },
        "b2e01f2dc10c417ca16949c56a1381d2": {
          "model_module": "@jupyter-widgets/base",
          "model_name": "LayoutModel",
          "model_module_version": "1.2.0",
          "state": {
            "_model_module": "@jupyter-widgets/base",
            "_model_module_version": "1.2.0",
            "_model_name": "LayoutModel",
            "_view_count": null,
            "_view_module": "@jupyter-widgets/base",
            "_view_module_version": "1.2.0",
            "_view_name": "LayoutView",
            "align_content": null,
            "align_items": null,
            "align_self": null,
            "border": null,
            "bottom": null,
            "display": null,
            "flex": null,
            "flex_flow": null,
            "grid_area": null,
            "grid_auto_columns": null,
            "grid_auto_flow": null,
            "grid_auto_rows": null,
            "grid_column": null,
            "grid_gap": null,
            "grid_row": null,
            "grid_template_areas": null,
            "grid_template_columns": null,
            "grid_template_rows": null,
            "height": null,
            "justify_content": null,
            "justify_items": null,
            "left": null,
            "margin": null,
            "max_height": null,
            "max_width": null,
            "min_height": null,
            "min_width": null,
            "object_fit": null,
            "object_position": null,
            "order": null,
            "overflow": null,
            "overflow_x": null,
            "overflow_y": null,
            "padding": null,
            "right": null,
            "top": null,
            "visibility": null,
            "width": null
          }
        },
        "54d240a3b6ac4267ab8b216557d60bb1": {
          "model_module": "@jupyter-widgets/controls",
          "model_name": "DescriptionStyleModel",
          "model_module_version": "1.5.0",
          "state": {
            "_model_module": "@jupyter-widgets/controls",
            "_model_module_version": "1.5.0",
            "_model_name": "DescriptionStyleModel",
            "_view_count": null,
            "_view_module": "@jupyter-widgets/base",
            "_view_module_version": "1.2.0",
            "_view_name": "StyleView",
            "description_width": ""
          }
        },
        "18dcbc69c8a74830a8cdd95647aa87e7": {
          "model_module": "@jupyter-widgets/base",
          "model_name": "LayoutModel",
          "model_module_version": "1.2.0",
          "state": {
            "_model_module": "@jupyter-widgets/base",
            "_model_module_version": "1.2.0",
            "_model_name": "LayoutModel",
            "_view_count": null,
            "_view_module": "@jupyter-widgets/base",
            "_view_module_version": "1.2.0",
            "_view_name": "LayoutView",
            "align_content": null,
            "align_items": null,
            "align_self": null,
            "border": null,
            "bottom": null,
            "display": null,
            "flex": null,
            "flex_flow": null,
            "grid_area": null,
            "grid_auto_columns": null,
            "grid_auto_flow": null,
            "grid_auto_rows": null,
            "grid_column": null,
            "grid_gap": null,
            "grid_row": null,
            "grid_template_areas": null,
            "grid_template_columns": null,
            "grid_template_rows": null,
            "height": null,
            "justify_content": null,
            "justify_items": null,
            "left": null,
            "margin": null,
            "max_height": null,
            "max_width": null,
            "min_height": null,
            "min_width": null,
            "object_fit": null,
            "object_position": null,
            "order": null,
            "overflow": null,
            "overflow_x": null,
            "overflow_y": null,
            "padding": null,
            "right": null,
            "top": null,
            "visibility": null,
            "width": null
          }
        },
        "0a686bab3a1844468e48ddedaebfe9b1": {
          "model_module": "@jupyter-widgets/controls",
          "model_name": "ProgressStyleModel",
          "model_module_version": "1.5.0",
          "state": {
            "_model_module": "@jupyter-widgets/controls",
            "_model_module_version": "1.5.0",
            "_model_name": "ProgressStyleModel",
            "_view_count": null,
            "_view_module": "@jupyter-widgets/base",
            "_view_module_version": "1.2.0",
            "_view_name": "StyleView",
            "bar_color": null,
            "description_width": ""
          }
        },
        "b0b2330e708f42d3a649a5e971ab88a2": {
          "model_module": "@jupyter-widgets/base",
          "model_name": "LayoutModel",
          "model_module_version": "1.2.0",
          "state": {
            "_model_module": "@jupyter-widgets/base",
            "_model_module_version": "1.2.0",
            "_model_name": "LayoutModel",
            "_view_count": null,
            "_view_module": "@jupyter-widgets/base",
            "_view_module_version": "1.2.0",
            "_view_name": "LayoutView",
            "align_content": null,
            "align_items": null,
            "align_self": null,
            "border": null,
            "bottom": null,
            "display": null,
            "flex": null,
            "flex_flow": null,
            "grid_area": null,
            "grid_auto_columns": null,
            "grid_auto_flow": null,
            "grid_auto_rows": null,
            "grid_column": null,
            "grid_gap": null,
            "grid_row": null,
            "grid_template_areas": null,
            "grid_template_columns": null,
            "grid_template_rows": null,
            "height": null,
            "justify_content": null,
            "justify_items": null,
            "left": null,
            "margin": null,
            "max_height": null,
            "max_width": null,
            "min_height": null,
            "min_width": null,
            "object_fit": null,
            "object_position": null,
            "order": null,
            "overflow": null,
            "overflow_x": null,
            "overflow_y": null,
            "padding": null,
            "right": null,
            "top": null,
            "visibility": null,
            "width": null
          }
        },
        "654cee6845c14ba69faf19ed7d6d6c32": {
          "model_module": "@jupyter-widgets/controls",
          "model_name": "DescriptionStyleModel",
          "model_module_version": "1.5.0",
          "state": {
            "_model_module": "@jupyter-widgets/controls",
            "_model_module_version": "1.5.0",
            "_model_name": "DescriptionStyleModel",
            "_view_count": null,
            "_view_module": "@jupyter-widgets/base",
            "_view_module_version": "1.2.0",
            "_view_name": "StyleView",
            "description_width": ""
          }
        },
        "75c2d75e29aa484ca20557350dc3bb8f": {
          "model_module": "@jupyter-widgets/controls",
          "model_name": "HBoxModel",
          "model_module_version": "1.5.0",
          "state": {
            "_dom_classes": [],
            "_model_module": "@jupyter-widgets/controls",
            "_model_module_version": "1.5.0",
            "_model_name": "HBoxModel",
            "_view_count": null,
            "_view_module": "@jupyter-widgets/controls",
            "_view_module_version": "1.5.0",
            "_view_name": "HBoxView",
            "box_style": "",
            "children": [
              "IPY_MODEL_8c894c2fb508478c8939338e90561879",
              "IPY_MODEL_3f0ae582d77d4023a23f4c6e19924be4",
              "IPY_MODEL_f97a57830da448a5b052707d4054ef87"
            ],
            "layout": "IPY_MODEL_6689ecd921e04fd896f7be4e1ed85d64"
          }
        },
        "8c894c2fb508478c8939338e90561879": {
          "model_module": "@jupyter-widgets/controls",
          "model_name": "HTMLModel",
          "model_module_version": "1.5.0",
          "state": {
            "_dom_classes": [],
            "_model_module": "@jupyter-widgets/controls",
            "_model_module_version": "1.5.0",
            "_model_name": "HTMLModel",
            "_view_count": null,
            "_view_module": "@jupyter-widgets/controls",
            "_view_module_version": "1.5.0",
            "_view_name": "HTMLView",
            "description": "",
            "description_tooltip": null,
            "layout": "IPY_MODEL_c88ef20f3e1b418b876b8737b2fc29a1",
            "placeholder": "​",
            "style": "IPY_MODEL_40c9ff7d2ccf49959f6ee12f5d7b1282",
            "value": "Retrieving SummaryDoc documents: 100%"
          }
        },
        "3f0ae582d77d4023a23f4c6e19924be4": {
          "model_module": "@jupyter-widgets/controls",
          "model_name": "FloatProgressModel",
          "model_module_version": "1.5.0",
          "state": {
            "_dom_classes": [],
            "_model_module": "@jupyter-widgets/controls",
            "_model_module_version": "1.5.0",
            "_model_name": "FloatProgressModel",
            "_view_count": null,
            "_view_module": "@jupyter-widgets/controls",
            "_view_module_version": "1.5.0",
            "_view_name": "ProgressView",
            "bar_style": "success",
            "description": "",
            "description_tooltip": null,
            "layout": "IPY_MODEL_191f564da1fc4b878e7b04c12f54c86c",
            "max": 936,
            "min": 0,
            "orientation": "horizontal",
            "style": "IPY_MODEL_9ff3cc7bb47544fb9e92ac64dbd3ef72",
            "value": 936
          }
        },
        "f97a57830da448a5b052707d4054ef87": {
          "model_module": "@jupyter-widgets/controls",
          "model_name": "HTMLModel",
          "model_module_version": "1.5.0",
          "state": {
            "_dom_classes": [],
            "_model_module": "@jupyter-widgets/controls",
            "_model_module_version": "1.5.0",
            "_model_name": "HTMLModel",
            "_view_count": null,
            "_view_module": "@jupyter-widgets/controls",
            "_view_module_version": "1.5.0",
            "_view_name": "HTMLView",
            "description": "",
            "description_tooltip": null,
            "layout": "IPY_MODEL_38fbe974c24b4539baf1760a922c0be8",
            "placeholder": "​",
            "style": "IPY_MODEL_1016d7028fdd49f49bfd47123a187094",
            "value": " 936/936 [00:00&lt;00:00, 28305.56it/s]"
          }
        },
        "6689ecd921e04fd896f7be4e1ed85d64": {
          "model_module": "@jupyter-widgets/base",
          "model_name": "LayoutModel",
          "model_module_version": "1.2.0",
          "state": {
            "_model_module": "@jupyter-widgets/base",
            "_model_module_version": "1.2.0",
            "_model_name": "LayoutModel",
            "_view_count": null,
            "_view_module": "@jupyter-widgets/base",
            "_view_module_version": "1.2.0",
            "_view_name": "LayoutView",
            "align_content": null,
            "align_items": null,
            "align_self": null,
            "border": null,
            "bottom": null,
            "display": null,
            "flex": null,
            "flex_flow": null,
            "grid_area": null,
            "grid_auto_columns": null,
            "grid_auto_flow": null,
            "grid_auto_rows": null,
            "grid_column": null,
            "grid_gap": null,
            "grid_row": null,
            "grid_template_areas": null,
            "grid_template_columns": null,
            "grid_template_rows": null,
            "height": null,
            "justify_content": null,
            "justify_items": null,
            "left": null,
            "margin": null,
            "max_height": null,
            "max_width": null,
            "min_height": null,
            "min_width": null,
            "object_fit": null,
            "object_position": null,
            "order": null,
            "overflow": null,
            "overflow_x": null,
            "overflow_y": null,
            "padding": null,
            "right": null,
            "top": null,
            "visibility": null,
            "width": null
          }
        },
        "c88ef20f3e1b418b876b8737b2fc29a1": {
          "model_module": "@jupyter-widgets/base",
          "model_name": "LayoutModel",
          "model_module_version": "1.2.0",
          "state": {
            "_model_module": "@jupyter-widgets/base",
            "_model_module_version": "1.2.0",
            "_model_name": "LayoutModel",
            "_view_count": null,
            "_view_module": "@jupyter-widgets/base",
            "_view_module_version": "1.2.0",
            "_view_name": "LayoutView",
            "align_content": null,
            "align_items": null,
            "align_self": null,
            "border": null,
            "bottom": null,
            "display": null,
            "flex": null,
            "flex_flow": null,
            "grid_area": null,
            "grid_auto_columns": null,
            "grid_auto_flow": null,
            "grid_auto_rows": null,
            "grid_column": null,
            "grid_gap": null,
            "grid_row": null,
            "grid_template_areas": null,
            "grid_template_columns": null,
            "grid_template_rows": null,
            "height": null,
            "justify_content": null,
            "justify_items": null,
            "left": null,
            "margin": null,
            "max_height": null,
            "max_width": null,
            "min_height": null,
            "min_width": null,
            "object_fit": null,
            "object_position": null,
            "order": null,
            "overflow": null,
            "overflow_x": null,
            "overflow_y": null,
            "padding": null,
            "right": null,
            "top": null,
            "visibility": null,
            "width": null
          }
        },
        "40c9ff7d2ccf49959f6ee12f5d7b1282": {
          "model_module": "@jupyter-widgets/controls",
          "model_name": "DescriptionStyleModel",
          "model_module_version": "1.5.0",
          "state": {
            "_model_module": "@jupyter-widgets/controls",
            "_model_module_version": "1.5.0",
            "_model_name": "DescriptionStyleModel",
            "_view_count": null,
            "_view_module": "@jupyter-widgets/base",
            "_view_module_version": "1.2.0",
            "_view_name": "StyleView",
            "description_width": ""
          }
        },
        "191f564da1fc4b878e7b04c12f54c86c": {
          "model_module": "@jupyter-widgets/base",
          "model_name": "LayoutModel",
          "model_module_version": "1.2.0",
          "state": {
            "_model_module": "@jupyter-widgets/base",
            "_model_module_version": "1.2.0",
            "_model_name": "LayoutModel",
            "_view_count": null,
            "_view_module": "@jupyter-widgets/base",
            "_view_module_version": "1.2.0",
            "_view_name": "LayoutView",
            "align_content": null,
            "align_items": null,
            "align_self": null,
            "border": null,
            "bottom": null,
            "display": null,
            "flex": null,
            "flex_flow": null,
            "grid_area": null,
            "grid_auto_columns": null,
            "grid_auto_flow": null,
            "grid_auto_rows": null,
            "grid_column": null,
            "grid_gap": null,
            "grid_row": null,
            "grid_template_areas": null,
            "grid_template_columns": null,
            "grid_template_rows": null,
            "height": null,
            "justify_content": null,
            "justify_items": null,
            "left": null,
            "margin": null,
            "max_height": null,
            "max_width": null,
            "min_height": null,
            "min_width": null,
            "object_fit": null,
            "object_position": null,
            "order": null,
            "overflow": null,
            "overflow_x": null,
            "overflow_y": null,
            "padding": null,
            "right": null,
            "top": null,
            "visibility": null,
            "width": null
          }
        },
        "9ff3cc7bb47544fb9e92ac64dbd3ef72": {
          "model_module": "@jupyter-widgets/controls",
          "model_name": "ProgressStyleModel",
          "model_module_version": "1.5.0",
          "state": {
            "_model_module": "@jupyter-widgets/controls",
            "_model_module_version": "1.5.0",
            "_model_name": "ProgressStyleModel",
            "_view_count": null,
            "_view_module": "@jupyter-widgets/base",
            "_view_module_version": "1.2.0",
            "_view_name": "StyleView",
            "bar_color": null,
            "description_width": ""
          }
        },
        "38fbe974c24b4539baf1760a922c0be8": {
          "model_module": "@jupyter-widgets/base",
          "model_name": "LayoutModel",
          "model_module_version": "1.2.0",
          "state": {
            "_model_module": "@jupyter-widgets/base",
            "_model_module_version": "1.2.0",
            "_model_name": "LayoutModel",
            "_view_count": null,
            "_view_module": "@jupyter-widgets/base",
            "_view_module_version": "1.2.0",
            "_view_name": "LayoutView",
            "align_content": null,
            "align_items": null,
            "align_self": null,
            "border": null,
            "bottom": null,
            "display": null,
            "flex": null,
            "flex_flow": null,
            "grid_area": null,
            "grid_auto_columns": null,
            "grid_auto_flow": null,
            "grid_auto_rows": null,
            "grid_column": null,
            "grid_gap": null,
            "grid_row": null,
            "grid_template_areas": null,
            "grid_template_columns": null,
            "grid_template_rows": null,
            "height": null,
            "justify_content": null,
            "justify_items": null,
            "left": null,
            "margin": null,
            "max_height": null,
            "max_width": null,
            "min_height": null,
            "min_width": null,
            "object_fit": null,
            "object_position": null,
            "order": null,
            "overflow": null,
            "overflow_x": null,
            "overflow_y": null,
            "padding": null,
            "right": null,
            "top": null,
            "visibility": null,
            "width": null
          }
        },
        "1016d7028fdd49f49bfd47123a187094": {
          "model_module": "@jupyter-widgets/controls",
          "model_name": "DescriptionStyleModel",
          "model_module_version": "1.5.0",
          "state": {
            "_model_module": "@jupyter-widgets/controls",
            "_model_module_version": "1.5.0",
            "_model_name": "DescriptionStyleModel",
            "_view_count": null,
            "_view_module": "@jupyter-widgets/base",
            "_view_module_version": "1.2.0",
            "_view_name": "StyleView",
            "description_width": ""
          }
        }
      }
    }
  },
  "cells": [
    {
      "cell_type": "markdown",
      "metadata": {
        "id": "view-in-github",
        "colab_type": "text"
      },
      "source": [
        "<a href=\"https://colab.research.google.com/github/kangmg/personal_study/blob/main/material_project_new_api.ipynb\" target=\"_parent\"><img src=\"https://colab.research.google.com/assets/colab-badge.svg\" alt=\"Open In Colab\"/></a>"
      ]
    },
    {
      "cell_type": "markdown",
      "source": [
        "![image.png](data:image/png;base64,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)"
      ],
      "metadata": {
        "id": "u24EBLuVbPJy"
      }
    },
    {
      "cell_type": "markdown",
      "source": [
        "<font color=skyblue size=5>Material Project New API Tutorials</font>\n"
      ],
      "metadata": {
        "id": "EGpFCFkOcn4J"
      }
    },
    {
      "cell_type": "markdown",
      "source": [
        "<font color=skyblue size=6>노트북 목차</font>\n",
        "\n",
        "- API Key 정의"
      ],
      "metadata": {
        "id": "uxK5MM3nbZqp"
      }
    },
    {
      "cell_type": "markdown",
      "source": [
        "<font color=skyblue size=6>노트북에서 다루는 내용</font>\n",
        "\n",
        "- 원하는 물질 필터링하기\n",
        "- 대량의 구조 데이터 다운받기\n",
        "- 저장한 데이터 lmdb/ase db로 저장하기"
      ],
      "metadata": {
        "id": "BVMLTyCOmO9g"
      }
    },
    {
      "cell_type": "markdown",
      "source": [
        "<font color=pink size=5>API Key 불러오기</font>\n",
        "\n",
        "- 방법 1. Colab 노트북 보안 비밀 추가 ( 코랩에서만 해당 )\n",
        "```python\n",
        "from google.colab import userdata\n",
        "MP_API_KEY = userdata.get('MP_API_KEY')\n",
        "```\n",
        "- 방법 2. 환경 변수로 저장\n",
        "```python\n",
        "import os\n",
        "MP_API_KEY = os.environ.get('MP_API_KEY')\n",
        "```\n",
        "- 방법 3. API 키 선언 (추천 X, 해당 튜토리얼에서 사용)\n",
        "```python\n",
        "MP_API_KEY = '<your api key here>'\n",
        "```"
      ],
      "metadata": {
        "id": "vs-c4u9okZfC"
      }
    },
    {
      "cell_type": "code",
      "source": [
        "#@title 필요 패키지 설치\n",
        "\n",
        "# 필수 O\n",
        "%pip install -q mp-api # MP API client package\n",
        "# https://github.com/materialsproject/api\n",
        "\n",
        "# 필수 X\n",
        "%pip install -q py3Dmol # for molecular visualization\n",
        "%pip install -q ase # ase db 변환 등\n"
      ],
      "metadata": {
        "colab": {
          "base_uri": "https://localhost:8080/"
        },
        "cellView": "form",
        "id": "hUr5v2dde-_v",
        "outputId": "ae4c69d9-966f-468f-de15-6fa363fd3483"
      },
      "execution_count": null,
      "outputs": [
        {
          "output_type": "stream",
          "name": "stdout",
          "text": [
            "  Preparing metadata (setup.py) ... \u001b[?25l\u001b[?25hdone\n",
            "\u001b[2K   \u001b[90m━━━━━━━━━━━━━━━━━━━━━━━━━━━━━━━━━━━━━━━━\u001b[0m \u001b[32m99.0/99.0 kB\u001b[0m \u001b[31m3.2 MB/s\u001b[0m eta \u001b[36m0:00:00\u001b[0m\n",
            "\u001b[2K   \u001b[90m━━━━━━━━━━━━━━━━━━━━━━━━━━━━━━━━━━━━━━━━\u001b[0m \u001b[32m212.6/212.6 kB\u001b[0m \u001b[31m5.0 MB/s\u001b[0m eta \u001b[36m0:00:00\u001b[0m\n",
            "\u001b[2K   \u001b[90m━━━━━━━━━━━━━━━━━━━━━━━━━━━━━━━━━━━━━━━━\u001b[0m \u001b[32m122.4/122.4 kB\u001b[0m \u001b[31m8.2 MB/s\u001b[0m eta \u001b[36m0:00:00\u001b[0m\n",
            "\u001b[2K   \u001b[90m━━━━━━━━━━━━━━━━━━━━━━━━━━━━━━━━━━━━━━━━\u001b[0m \u001b[32m51.5/51.5 kB\u001b[0m \u001b[31m3.0 MB/s\u001b[0m eta \u001b[36m0:00:00\u001b[0m\n",
            "\u001b[2K   \u001b[90m━━━━━━━━━━━━━━━━━━━━━━━━━━━━━━━━━━━━━━━━\u001b[0m \u001b[32m4.9/4.9 MB\u001b[0m \u001b[31m40.2 MB/s\u001b[0m eta \u001b[36m0:00:00\u001b[0m\n",
            "\u001b[2K   \u001b[90m━━━━━━━━━━━━━━━━━━━━━━━━━━━━━━━━━━━━━━━━\u001b[0m \u001b[32m139.2/139.2 kB\u001b[0m \u001b[31m5.9 MB/s\u001b[0m eta \u001b[36m0:00:00\u001b[0m\n",
            "\u001b[2K   \u001b[90m━━━━━━━━━━━━━━━━━━━━━━━━━━━━━━━━━━━━━━━━\u001b[0m \u001b[32m313.6/313.6 kB\u001b[0m \u001b[31m8.6 MB/s\u001b[0m eta \u001b[36m0:00:00\u001b[0m\n",
            "\u001b[2K   \u001b[90m━━━━━━━━━━━━━━━━━━━━━━━━━━━━━━━━━━━━━━━━\u001b[0m \u001b[32m64.9/64.9 kB\u001b[0m \u001b[31m3.4 MB/s\u001b[0m eta \u001b[36m0:00:00\u001b[0m\n",
            "\u001b[2K   \u001b[90m━━━━━━━━━━━━━━━━━━━━━━━━━━━━━━━━━━━━━━━━\u001b[0m \u001b[32m332.3/332.3 kB\u001b[0m \u001b[31m18.8 MB/s\u001b[0m eta \u001b[36m0:00:00\u001b[0m\n",
            "\u001b[2K   \u001b[90m━━━━━━━━━━━━━━━━━━━━━━━━━━━━━━━━━━━━━━━━\u001b[0m \u001b[32m561.4/561.4 kB\u001b[0m \u001b[31m20.9 MB/s\u001b[0m eta \u001b[36m0:00:00\u001b[0m\n",
            "\u001b[2K   \u001b[90m━━━━━━━━━━━━━━━━━━━━━━━━━━━━━━━━━━━━━━━━\u001b[0m \u001b[32m101.9/101.9 kB\u001b[0m \u001b[31m2.5 MB/s\u001b[0m eta \u001b[36m0:00:00\u001b[0m\n",
            "\u001b[2K   \u001b[90m━━━━━━━━━━━━━━━━━━━━━━━━━━━━━━━━━━━━━━━━\u001b[0m \u001b[32m1.4/1.4 MB\u001b[0m \u001b[31m25.0 MB/s\u001b[0m eta \u001b[36m0:00:00\u001b[0m\n",
            "\u001b[2K   \u001b[90m━━━━━━━━━━━━━━━━━━━━━━━━━━━━━━━━━━━━━━━━\u001b[0m \u001b[32m868.8/868.8 kB\u001b[0m \u001b[31m16.4 MB/s\u001b[0m eta \u001b[36m0:00:00\u001b[0m\n",
            "\u001b[2K   \u001b[90m━━━━━━━━━━━━━━━━━━━━━━━━━━━━━━━━━━━━━━━━\u001b[0m \u001b[32m117.7/117.7 kB\u001b[0m \u001b[31m6.5 MB/s\u001b[0m eta \u001b[36m0:00:00\u001b[0m\n",
            "\u001b[2K   \u001b[90m━━━━━━━━━━━━━━━━━━━━━━━━━━━━━━━━━━━━━━━━\u001b[0m \u001b[32m1.1/1.1 MB\u001b[0m \u001b[31m23.5 MB/s\u001b[0m eta \u001b[36m0:00:00\u001b[0m\n",
            "\u001b[2K   \u001b[90m━━━━━━━━━━━━━━━━━━━━━━━━━━━━━━━━━━━━━━━━\u001b[0m \u001b[32m58.3/58.3 kB\u001b[0m \u001b[31m2.8 MB/s\u001b[0m eta \u001b[36m0:00:00\u001b[0m\n",
            "\u001b[2K   \u001b[90m━━━━━━━━━━━━━━━━━━━━━━━━━━━━━━━━━━━━━━━━\u001b[0m \u001b[32m13.3/13.3 MB\u001b[0m \u001b[31m51.7 MB/s\u001b[0m eta \u001b[36m0:00:00\u001b[0m\n",
            "\u001b[2K   \u001b[90m━━━━━━━━━━━━━━━━━━━━━━━━━━━━━━━━━━━━━━━━\u001b[0m \u001b[32m227.1/227.1 kB\u001b[0m \u001b[31m15.1 MB/s\u001b[0m eta \u001b[36m0:00:00\u001b[0m\n",
            "\u001b[2K   \u001b[90m━━━━━━━━━━━━━━━━━━━━━━━━━━━━━━━━━━━━━━━━\u001b[0m \u001b[32m722.2/722.2 kB\u001b[0m \u001b[31m25.5 MB/s\u001b[0m eta \u001b[36m0:00:00\u001b[0m\n",
            "\u001b[2K   \u001b[90m━━━━━━━━━━━━━━━━━━━━━━━━━━━━━━━━━━━━━━━━\u001b[0m \u001b[32m83.2/83.2 kB\u001b[0m \u001b[31m5.2 MB/s\u001b[0m eta \u001b[36m0:00:00\u001b[0m\n",
            "\u001b[2K   \u001b[90m━━━━━━━━━━━━━━━━━━━━━━━━━━━━━━━━━━━━━━━━\u001b[0m \u001b[32m278.6/278.6 kB\u001b[0m \u001b[31m12.1 MB/s\u001b[0m eta \u001b[36m0:00:00\u001b[0m\n",
            "\u001b[2K   \u001b[90m━━━━━━━━━━━━━━━━━━━━━━━━━━━━━━━━━━━━━━━━\u001b[0m \u001b[32m856.7/856.7 kB\u001b[0m \u001b[31m32.1 MB/s\u001b[0m eta \u001b[36m0:00:00\u001b[0m\n",
            "\u001b[?25h  Building wheel for sentinels (setup.py) ... \u001b[?25l\u001b[?25hdone\n",
            "\u001b[31mERROR: pip's dependency resolver does not currently take into account all the packages that are installed. This behaviour is the source of the following dependency conflicts.\n",
            "notebook 6.5.5 requires pyzmq<25,>=17, but you have pyzmq 26.2.0 which is incompatible.\u001b[0m\u001b[31m\n",
            "\u001b[2K   \u001b[90m━━━━━━━━━━━━━━━━━━━━━━━━━━━━━━━━━━━━━━━━\u001b[0m \u001b[32m2.9/2.9 MB\u001b[0m \u001b[31m23.8 MB/s\u001b[0m eta \u001b[36m0:00:00\u001b[0m\n",
            "\u001b[?25h"
          ]
        }
      ]
    },
    {
      "cell_type": "code",
      "source": [
        "#@title API KEY 입력\n",
        "#@markdown [Material Project](https://next-gen.materialsproject.org/)에 가입 후 이 [링크](https://next-gen.materialsproject.org/dashboard)에서 발급/확인 가능\n",
        "\n",
        "MP_API_KEY = '' #@param {type:\"string\"}"
      ],
      "metadata": {
        "cellView": "form",
        "id": "DPLiXwTPhBfe"
      },
      "execution_count": null,
      "outputs": []
    },
    {
      "cell_type": "code",
      "source": [
        "## tmp\n",
        "\n",
        "from google.colab import userdata\n",
        "MP_API_KEY = userdata.get('MP_API_KEY')\n",
        "\n",
        "## tmp"
      ],
      "metadata": {
        "id": "3vYQpHkK0qqT"
      },
      "execution_count": null,
      "outputs": []
    },
    {
      "cell_type": "code",
      "source": [
        "#@title Field 목록  | 데이터에 포함할 값들\n",
        "\n",
        "AVAILABLE_FIELDS = {\n",
        "    'builder_meta', 'nsites', 'elements', 'nelements', 'composition', 'composition_reduced', 'formula_pretty', 'formula_anonymous',\n",
        "    'chemsys', 'volume', 'density', 'density_atomic', 'symmetry', 'property_name', 'material_id', 'deprecated', 'deprecation_reasons',\n",
        "    'last_updated', 'origins', 'warnings', 'structure', 'task_ids', 'uncorrected_energy_per_atom', 'energy_per_atom', 'formation_energy_per_atom',\n",
        "    'energy_above_hull', 'is_stable', 'equilibrium_reaction_energy_per_atom', 'decomposes_to', 'xas', 'grain_boundaries', 'band_gap',\n",
        "    'cbm', 'vbm', 'efermi', 'is_gap_direct', 'is_metal', 'es_source_calc_id', 'bandstructure', 'dos', 'dos_energy_up', 'dos_energy_down',\n",
        "    'is_magnetic', 'ordering', 'total_magnetization', 'total_magnetization_normalized_vol', 'total_magnetization_normalized_formula_units',\n",
        "    'num_magnetic_sites', 'num_unique_magnetic_sites', 'types_of_magnetic_species', 'bulk_modulus', 'shear_modulus', 'universal_anisotropy',\n",
        "    'homogeneous_poisson', 'e_total', 'e_ionic', 'e_electronic', 'n', 'e_ij_max', 'weighted_surface_energy_EV_PER_ANG2', 'weighted_surface_energy',\n",
        "    'weighted_work_function', 'surface_anisotropy', 'shape_factor', 'has_reconstructed', 'possible_species', 'has_props', 'theoretical', 'database_IDs'\n",
        "}"
      ],
      "metadata": {
        "cellView": "form",
        "id": "7N4bXdmN3O7H"
      },
      "execution_count": null,
      "outputs": []
    },
    {
      "cell_type": "code",
      "source": [
        "#@title 필터링 조건들\n",
        "\n",
        "#########################################\n",
        "# for type annotations. ignore this block\n",
        "class CrystalSystem: pass\n",
        "class HasProps: pass\n",
        "class Ordering: pass\n",
        "#########################################\n",
        "\n",
        "# default values\n",
        "\n",
        "band_gap: tuple[float, float] | None = None,\n",
        "chemsys: str | list[str] | None = None,\n",
        "crystal_system: CrystalSystem | None = None,\n",
        "density: tuple[float, float] | None = None,\n",
        "deprecated: bool | None = None,\n",
        "e_electronic: tuple[float, float] | None = None,\n",
        "e_ionic: tuple[float, float] | None = None,\n",
        "e_total: tuple[float, float] | None = None,\n",
        "efermi: tuple[float, float] | None = None,\n",
        "elastic_anisotropy: tuple[float, float] | None = None,\n",
        "elements: list[str] | None = None,\n",
        "energy_above_hull: tuple[float, float] | None = None,\n",
        "equilibrium_reaction_energy: tuple[float, float] | None = None,\n",
        "exclude_elements: list[str] | None = None,\n",
        "formation_energy: tuple[float, float] | None = None,\n",
        "formula: str | list[str] | None = None,\n",
        "g_reuss: tuple[float, float] | None = None,\n",
        "g_voigt: tuple[float, float] | None = None,\n",
        "g_vrh: tuple[float, float] | None = None,\n",
        "has_props: list[HasProps] | list[str] | None = None,\n",
        "has_reconstructed: bool | None = None,\n",
        "is_gap_direct: bool | None = None,\n",
        "is_metal: bool | None = None,\n",
        "is_stable: bool | None = None,\n",
        "k_reuss: tuple[float, float] | None = None,\n",
        "k_voigt: tuple[float, float] | None = None,\n",
        "k_vrh: tuple[float, float] | None = None,\n",
        "magnetic_ordering: Ordering | None = None,\n",
        "material_ids: str | list[str] | None = None,\n",
        "n: tuple[float, float] | None = None,\n",
        "num_elements: tuple[int, int] | None = None,\n",
        "num_sites: tuple[int, int] | None = None,\n",
        "num_magnetic_sites: tuple[int, int] | None = None,\n",
        "num_unique_magnetic_sites: tuple[int, int] | None = None,\n",
        "piezoelectric_modulus: tuple[float, float] | None = None,\n",
        "poisson_ratio: tuple[float, float] | None = None,\n",
        "possible_species: list[str] | None = None,\n",
        "shape_factor: tuple[float, float] | None = None,\n",
        "spacegroup_number: int | None = None,\n",
        "spacegroup_symbol: str | None = None,\n",
        "surface_energy_anisotropy: tuple[float, float] | None = None,\n",
        "theoretical: bool | None = None,\n",
        "total_energy: tuple[float, float] | None = None,\n",
        "total_magnetization: tuple[float, float] | None = None,\n",
        "total_magnetization_normalized_formula_units: tuple[float, float] | None = None,\n",
        "total_magnetization_normalized_vol: tuple[float, float] | None = None,\n",
        "uncorrected_energy: tuple[float, float] | None = None,\n",
        "volume: tuple[float, float] | None = None,\n",
        "weighted_surface_energy: tuple[float, float] | None = None,\n",
        "weighted_work_function: tuple[float, float] | None = None,\n",
        "include_gnome: bool = True,"
      ],
      "metadata": {
        "cellView": "form",
        "id": "ArG5Op2FWGI9"
      },
      "execution_count": null,
      "outputs": []
    },
    {
      "cell_type": "code",
      "source": [
        "#@title 필터링 값\n",
        "#@markdown `['has_props', 'magnetic_ordering', 'crystal_system']`\n",
        "\n",
        "# crystal type filter\n",
        "from emmet.core.symmetry import CrystalSystem\n",
        "CrystalSystem.cubic\n",
        "CrystalSystem.hex_\n",
        "CrystalSystem.mono\n",
        "CrystalSystem.ortho\n",
        "CrystalSystem.tet\n",
        "CrystalSystem.tri\n",
        "CrystalSystem.trig\n",
        "\n",
        "\n",
        "# magnetism filter\n",
        "from pymatgen.analysis.magnetism import Ordering\n",
        "Ordering.AFM\n",
        "Ordering.FM\n",
        "Ordering.FiM\n",
        "Ordering.NM\n",
        "Ordering.Unknown\n",
        "\n",
        "\n",
        "# property filter\n",
        "from emmet.core.summary import HasProps\n",
        "HasProps.absorption\n",
        "HasProps.bandstructure\n",
        "HasProps.charge_density\n",
        "HasProps.chemenv\n",
        "HasProps.dielectric\n",
        "HasProps.dos\n",
        "HasProps.elasticity\n",
        "HasProps.electronic_structure\n",
        "HasProps.eos\n",
        "HasProps.grain_boundaries\n",
        "HasProps.insertion_electrodes\n",
        "HasProps.magnetism\n",
        "HasProps.materials\n",
        "HasProps.oxi_states\n",
        "HasProps.phonon\n",
        "HasProps.piezoelectric\n",
        "HasProps.provenance\n",
        "HasProps.substrates\n",
        "HasProps.surface_properties\n",
        "HasProps.thermo\n",
        "HasProps.xas\n",
        "\n",
        "None"
      ],
      "metadata": {
        "cellView": "form",
        "id": "xjrkknbsB-sU"
      },
      "execution_count": null,
      "outputs": []
    },
    {
      "cell_type": "markdown",
      "source": [
        "<font color=skyblue size=5>조건에 맞는 물질의 데이터를 대량으로 불러오는 방법</font>\n",
        "\n",
        "1.  MP database에서 받아올 값들 정의 (Field 값 참고)\n",
        "    - e.g.\n",
        "    -\n",
        "    ```python\n",
        "    field=['material_id', 'structure', 'formation_energy_per_atom', 'energy_per_atom', 'warnings', 'symmetry']\n",
        "    ```\n",
        "    - formation_energy : 생성 에너지\n",
        "    - total_energy : 물질의 전체 에너지\n",
        "    - material_id : MP ID\n",
        "    - structure : pymatgen.core.structure.Structure\n",
        "\n",
        "<br>\n",
        "\n",
        "2. 검색 조건 설정 (필터링 조건 참고)\n",
        "    - [Materials Explorer](https://next-gen.materialsproject.org/materials)를 통해 필터링된 데이터를 먼저 확인하는 것을 권장\n",
        "    - e.g.\n",
        "    -\n",
        "    ```python\n",
        "    search_filter = dict(\n",
        "        chemsys='Si-O-*', # Si와 O가 포함된 ternary system을 검색, * 는 임의 원소\n",
        "        is_stable=True, # 안정한 구조\n",
        "        )\n",
        "\n",
        "    search_filter = dict(\n",
        "        elements=['Cd', 'Pd'] # N P H 가 *가 됨\n",
        "        is_metal=True, # 금속 데이터\n",
        "        )\n",
        "    \n",
        "    # 다른 예시\n",
        "    binary_oxide_filter = dict(chemsys='O-*', elements=['C', 'B', 'N', 'H']) # binary oxide system\n",
        "    SiO_contain_filter = dict(elements=['Si', 'O']) # Contains Si, O\n",
        "    SiO_AB2_filter = dict(chemsys='Si-O', formula='AB2') # Silicon oxides | SiO2 or Si2O\n",
        "    ```\n",
        "\n",
        "<br>\n",
        "\n",
        "3. API 호출\n",
        "    -\n",
        "    ```python\n",
        "\n",
        "    ```"
      ],
      "metadata": {
        "id": "5sYl2GJQQM14"
      }
    },
    {
      "cell_type": "code",
      "source": [
        "# API KEY 설정\n",
        "if not MP_API_KEY:\n",
        "    raise ValueError('MP_API_KEY 를 먼저 설정해주세요.')"
      ],
      "metadata": {
        "id": "Ys5SWgHfaTMq"
      },
      "execution_count": null,
      "outputs": []
    },
    {
      "cell_type": "code",
      "source": [
        "from mp_api.client import MPRester\n",
        "\n",
        "search_filter = dict(\n",
        "  chemsys='Si-O-*', # Si와 O가 포함된 ternary system을 검색, * 는 임의 원소\n",
        "  is_stable=False, # 안정한 구조\n",
        "  is_metal=False, # 금속이 아님\n",
        "  )\n",
        "\n",
        "binary_oxide_filter = dict(chemsys='O-*', elements=['C', 'B', 'N', 'H']) # binary oxide system\n",
        "\n",
        "field=['material_id', 'structure', 'formation_energy_per_atom', 'energy_per_atom', 'warnings', 'symmetry']\n",
        "\n",
        "with MPRester(MP_API_KEY) as mpr:\n",
        "    docs = mpr.materials.summary.search(\n",
        "        **search_filter,\n",
        "        fields=field,\n",
        "    )\n",
        "    print(f'{len(docs)} data loaded')\n"
      ],
      "metadata": {
        "colab": {
          "base_uri": "https://localhost:8080/",
          "height": 67,
          "referenced_widgets": [
            "fe8966831ed747a0828a499e6fceb4a2",
            "608e50dc80484e56846285d88085fd6f",
            "6b88dda1f14c4a4289915a57de6bb0d0",
            "31f6776c5f444d55b5ea65025bfdba73",
            "ae67d40eb473431c9827c0fda0986f4b",
            "b0a133aba9b14835b63a4ecaab41c91a",
            "f887123cef484300bf146a011e36973d",
            "14efb8a5f867414b9ffbed1037b99966",
            "0883e222ee2744b3bc205a2e7ee8376c",
            "d4cbf7b928254f5c92d6138490984eb4",
            "ed0c9b50af83405ea733d651ba482ff6"
          ]
        },
        "id": "bez0ti-mbpPe",
        "outputId": "8062e81b-66d7-48b9-fce6-280858163640"
      },
      "execution_count": null,
      "outputs": [
        {
          "output_type": "display_data",
          "data": {
            "text/plain": [
              "Retrieving SummaryDoc documents:   0%|          | 0/487 [00:00<?, ?it/s]"
            ],
            "application/vnd.jupyter.widget-view+json": {
              "version_major": 2,
              "version_minor": 0,
              "model_id": "fe8966831ed747a0828a499e6fceb4a2"
            }
          },
          "metadata": {}
        },
        {
          "output_type": "stream",
          "name": "stdout",
          "text": [
            "487 data loaded\n"
          ]
        }
      ]
    },
    {
      "cell_type": "code",
      "source": [
        "with MPRester(MP_API_KEY) as mpr:\n",
        "    docs = mpr.materials.summary.search(\n",
        "        crystal_system=CrystalSystem.hex_,\n",
        "        fields=field,\n",
        "        num_chunks=10,\n",
        "        chunk_size=300\n",
        "    )\n",
        "    print(f'{len(docs)} data loaded')"
      ],
      "metadata": {
        "colab": {
          "base_uri": "https://localhost:8080/",
          "height": 67,
          "referenced_widgets": [
            "fdbebe102e264aaf8211de57d1e4ade6",
            "b8916066391d4db2aa4426b2bef3faf5",
            "26d1b4a32d8a42dc89ba73e55bd6365b",
            "09043ac3df1d48e0856688296957935c",
            "c7095d20a06b4157899108958a634543",
            "1a69ace7bed04083bcf995f8b7be0d68",
            "0c22ef832148409cacc6fae0de341359",
            "54f7b23d0e2a40bd80fc4b956d33795f",
            "4e18f9366dc54951b91da6788e0b6f78",
            "a6a3cbef4030448582c7c9fc8e677f22",
            "60cb411252574bf08d6e6585c0eb361e"
          ]
        },
        "id": "fyGQrzW6DlHU",
        "outputId": "bc852492-3277-4939-e9fb-a444c85af445"
      },
      "execution_count": null,
      "outputs": [
        {
          "output_type": "display_data",
          "data": {
            "text/plain": [
              "Retrieving SummaryDoc documents:   0%|          | 0/3000 [00:00<?, ?it/s]"
            ],
            "application/vnd.jupyter.widget-view+json": {
              "version_major": 2,
              "version_minor": 0,
              "model_id": "fdbebe102e264aaf8211de57d1e4ade6"
            }
          },
          "metadata": {}
        },
        {
          "output_type": "stream",
          "name": "stdout",
          "text": [
            "3000 data loaded\n"
          ]
        }
      ]
    },
    {
      "cell_type": "code",
      "source": [
        "docs[:-3][0].structure.to_ase_atoms()\n",
        "docs[:-3][0]"
      ],
      "metadata": {
        "colab": {
          "base_uri": "https://localhost:8080/"
        },
        "id": "4FiG1ZvMFC4t",
        "outputId": "42a796de-44f4-4a1c-cd11-c6a69bd3d40d"
      },
      "execution_count": null,
      "outputs": [
        {
          "output_type": "execute_result",
          "data": {
            "text/plain": [
              "\u001b[4m\u001b[1mMPDataDoc<SummaryDoc>\u001b[0;0m\u001b[0;0m(\n",
              "\u001b[1msymmetry\u001b[0;0m=SymmetryData(crystal_system=<CrystalSystem.hex_: 'Hexagonal'>, symbol='P6_3/mmc', number=194, point_group='6/mmm', symprec=0.1, angle_tolerance=5.0, version='2.5.0'),\n",
              "\u001b[1mmaterial_id\u001b[0;0m=MPID(mp-862690),\n",
              "\u001b[1mwarnings\u001b[0;0m=[],\n",
              "\u001b[1mstructure\u001b[0;0m=Structure Summary\n",
              "Lattice\n",
              "    abc : 4.04604073 4.046040804636149 13.01703648\n",
              " angles : 90.0 90.0 120.0000082576264\n",
              " volume : 184.54540076862065\n",
              "      A : 4.04604073 -2e-08 0.0\n",
              "      B : -2.02302089 3.50397384 0.0\n",
              "      C : 0.0 0.0 13.01703648\n",
              "    pbc : True True True\n",
              "PeriodicSite: Ac (0.0, 0.0, 0.0) [-0.0, -0.0, 0.0]\n",
              "PeriodicSite: Ac (-3.5e-07, 2.336, 3.254) [0.3333, 0.6667, 0.25]\n",
              "PeriodicSite: Ac (0.0, 0.0, 6.509) [-0.0, -0.0, 0.5]\n",
              "PeriodicSite: Ac (2.023, 1.168, 9.763) [0.6667, 0.3333, 0.75],\n",
              "\u001b[1menergy_per_atom\u001b[0;0m=-68.6374794125,\n",
              "\u001b[1mformation_energy_per_atom\u001b[0;0m=0.0,\n",
              "\u001b[1mfields_not_requested\u001b[0;0m=['builder_meta', 'nsites', 'elements', 'nelements', 'composition', 'composition_reduced', 'formula_pretty', 'formula_anonymous', 'chemsys', 'volume', 'density', 'density_atomic', 'property_name', 'deprecated', 'deprecation_reasons', 'last_updated', 'origins', 'task_ids', 'uncorrected_energy_per_atom', 'energy_above_hull', 'is_stable', 'equilibrium_reaction_energy_per_atom', 'decomposes_to', 'xas', 'grain_boundaries', 'band_gap', 'cbm', 'vbm', 'efermi', 'is_gap_direct', 'is_metal', 'es_source_calc_id', 'bandstructure', 'dos', 'dos_energy_up', 'dos_energy_down', 'is_magnetic', 'ordering', 'total_magnetization', 'total_magnetization_normalized_vol', 'total_magnetization_normalized_formula_units', 'num_magnetic_sites', 'num_unique_magnetic_sites', 'types_of_magnetic_species', 'bulk_modulus', 'shear_modulus', 'universal_anisotropy', 'homogeneous_poisson', 'e_total', 'e_ionic', 'e_electronic', 'n', 'e_ij_max', 'weighted_surface_energy_EV_PER_ANG2', 'weighted_surface_energy', 'weighted_work_function', 'surface_anisotropy', 'shape_factor', 'has_reconstructed', 'possible_species', 'has_props', 'theoretical', 'database_IDs']\n",
              ")"
            ]
          },
          "metadata": {},
          "execution_count": 25
        }
      ]
    },
    {
      "cell_type": "code",
      "source": [
        "max_num_data = CHUNK_SIZE"
      ],
      "metadata": {
        "id": "zmFMS7KMaMPG"
      },
      "execution_count": null,
      "outputs": []
    },
    {
      "cell_type": "code",
      "source": [],
      "metadata": {
        "id": "aLA-i7EKPVUm"
      },
      "execution_count": null,
      "outputs": []
    },
    {
      "cell_type": "markdown",
      "source": [
        "받아서 lmdb나 ase db로 저장하는 방법"
      ],
      "metadata": {
        "id": "kfI0GP8QbQ3o"
      }
    },
    {
      "cell_type": "code",
      "source": [],
      "metadata": {
        "id": "aA6AUkGMPVZQ"
      },
      "execution_count": null,
      "outputs": []
    },
    {
      "cell_type": "code",
      "source": [],
      "metadata": {
        "id": "2_YF_kqVPVdf"
      },
      "execution_count": null,
      "outputs": []
    },
    {
      "cell_type": "code",
      "source": [
        "with MPRester(MP_API_KEY) as mpr:\n",
        "\n",
        "    docs = mpr.materials.summary.search(fields=['structure', 'e_electronic', 'material_id'], is_metal=True)\n",
        "\n",
        "    # -- Shortcut for a single Materials Project ID:\n",
        "    #structure = mpr.get_structure_by_material_id(\"mp-149\")"
      ],
      "metadata": {
        "colab": {
          "base_uri": "https://localhost:8080/",
          "height": 49,
          "referenced_widgets": [
            "20589e9e2aab4e4c8fac884e06f557cb",
            "6414786fafc9432bbf2bf2360fcd4a24",
            "0f9ad6fb2945475b941e389022ff91fa",
            "4d497ac9bc7541d6b52193a55229115b",
            "9be3908dbd704201800c155c0e20851c",
            "b2e01f2dc10c417ca16949c56a1381d2",
            "54d240a3b6ac4267ab8b216557d60bb1",
            "18dcbc69c8a74830a8cdd95647aa87e7",
            "0a686bab3a1844468e48ddedaebfe9b1",
            "b0b2330e708f42d3a649a5e971ab88a2",
            "654cee6845c14ba69faf19ed7d6d6c32"
          ]
        },
        "id": "En7TUtIliyVH",
        "outputId": "3474aec8-a49d-4352-e064-607a40309bed"
      },
      "execution_count": null,
      "outputs": [
        {
          "output_type": "display_data",
          "data": {
            "text/plain": [
              "Retrieving SummaryDoc documents:   0%|          | 0/100 [00:00<?, ?it/s]"
            ],
            "application/vnd.jupyter.widget-view+json": {
              "version_major": 2,
              "version_minor": 0,
              "model_id": "20589e9e2aab4e4c8fac884e06f557cb"
            }
          },
          "metadata": {}
        }
      ]
    },
    {
      "cell_type": "code",
      "source": [
        "docs[0].structure\n"
      ],
      "metadata": {
        "colab": {
          "base_uri": "https://localhost:8080/"
        },
        "id": "oOGMoRJgCEeH",
        "outputId": "00d8ef9c-4760-49db-e481-48d90c92061e"
      },
      "execution_count": null,
      "outputs": [
        {
          "output_type": "execute_result",
          "data": {
            "text/plain": [
              "Structure Summary\n",
              "Lattice\n",
              "    abc : 4.027829901198107 4.0278292285621005 4.02782982\n",
              " angles : 59.99999514264196 60.00000066686326 59.999994872937556\n",
              " volume : 46.205987384126566\n",
              "      A : 3.48820304 -0.0 2.01391491\n",
              "      B : 1.16273435 3.28870854 2.01391491\n",
              "      C : 0.0 -0.0 4.02782982\n",
              "    pbc : True True True\n",
              "PeriodicSite: Ac (0.0, 0.0, 0.0) [-0.0, -0.0, 0.0]"
            ]
          },
          "metadata": {},
          "execution_count": 55
        }
      ]
    },
    {
      "cell_type": "code",
      "source": [
        "client = MPRester(MP_API_KEY, mute_progress_bars=True)"
      ],
      "metadata": {
        "id": "kG18D3Y74Vpx"
      },
      "execution_count": null,
      "outputs": []
    },
    {
      "cell_type": "code",
      "source": [
        "structure"
      ],
      "metadata": {
        "colab": {
          "base_uri": "https://localhost:8080/"
        },
        "id": "4u5ELcVa7aqM",
        "outputId": "7add8117-bc8d-424b-99c2-f58957fd45f3"
      },
      "execution_count": null,
      "outputs": [
        {
          "output_type": "execute_result",
          "data": {
            "text/plain": [
              "Structure Summary\n",
              "Lattice\n",
              "    abc : 3.8492784033699095 3.8492794116013456 3.849278\n",
              " angles : 60.00001213094421 60.00000346645984 60.00001097545789\n",
              " volume : 40.32952684741405\n",
              "      A : 3.333573 0.0 1.924639\n",
              "      B : 1.111191 3.142924 1.924639\n",
              "      C : 0.0 0.0 3.849278\n",
              "    pbc : True True True\n",
              "PeriodicSite: Si (3.889, 2.75, 6.736) [0.875, 0.875, 0.875]\n",
              "PeriodicSite: Si (0.5556, 0.3929, 0.9623) [0.125, 0.125, 0.125]"
            ]
          },
          "metadata": {},
          "execution_count": 16
        }
      ]
    },
    {
      "cell_type": "code",
      "source": [
        "data = client.get_structure_by_material_id(docs[0].material_id)"
      ],
      "metadata": {
        "id": "LvIoXGEA4uVc"
      },
      "execution_count": null,
      "outputs": []
    },
    {
      "cell_type": "code",
      "source": [
        "\n",
        "from mp_api.client import MPRester\n",
        "from emmet.core.summary import HasProps\n",
        "\n",
        "with MPRester(MP_API_KEY) as mpr:\n",
        "    docs = mpr.materials.summary.search(\n",
        "        has_props = [HasProps.absorption], fields=[\"material_id\"]\n",
        "    )\n",
        "    mpids = [doc.material_id for doc in docs]"
      ],
      "metadata": {
        "colab": {
          "base_uri": "https://localhost:8080/",
          "height": 49,
          "referenced_widgets": [
            "75c2d75e29aa484ca20557350dc3bb8f",
            "8c894c2fb508478c8939338e90561879",
            "3f0ae582d77d4023a23f4c6e19924be4",
            "f97a57830da448a5b052707d4054ef87",
            "6689ecd921e04fd896f7be4e1ed85d64",
            "c88ef20f3e1b418b876b8737b2fc29a1",
            "40c9ff7d2ccf49959f6ee12f5d7b1282",
            "191f564da1fc4b878e7b04c12f54c86c",
            "9ff3cc7bb47544fb9e92ac64dbd3ef72",
            "38fbe974c24b4539baf1760a922c0be8",
            "1016d7028fdd49f49bfd47123a187094"
          ]
        },
        "id": "Y_yYbvRp1L2h",
        "outputId": "4aeb9eb6-b8a1-4018-a61c-79e2dea6a410"
      },
      "execution_count": null,
      "outputs": [
        {
          "output_type": "display_data",
          "data": {
            "text/plain": [
              "Retrieving SummaryDoc documents:   0%|          | 0/936 [00:00<?, ?it/s]"
            ],
            "application/vnd.jupyter.widget-view+json": {
              "version_major": 2,
              "version_minor": 0,
              "model_id": "75c2d75e29aa484ca20557350dc3bb8f"
            }
          },
          "metadata": {}
        }
      ]
    },
    {
      "cell_type": "code",
      "source": [],
      "metadata": {
        "id": "pQ5od9NR1L52"
      },
      "execution_count": null,
      "outputs": []
    },
    {
      "cell_type": "code",
      "source": [],
      "metadata": {
        "id": "1cqaHvr41L9G"
      },
      "execution_count": null,
      "outputs": []
    },
    {
      "cell_type": "markdown",
      "source": [
        " ![image.png](data:image/png;base64,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)"
      ],
      "metadata": {
        "id": "YGb5QNjceR3j"
      }
    },
    {
      "cell_type": "markdown",
      "source": [
        "<font size=6 color=skyblue>Documents</font>\n",
        "\n",
        "- [Official API Docments](https://api.materialsproject.org/redoc)\n",
        "\n",
        "- [Interactive API Demo](https://api.materialsproject.org/docs#/Materials%20Summary)\n",
        "\n",
        "- [Forum](https://matsci.org/c/materials-project/8)\n",
        "\n",
        "- Official MP homepage\n",
        "\n",
        "    - [using-the-api/getting-started](https://docs.materialsproject.org/downloading-data/using-the-api/getting-started)\n",
        "    - [how-do-i-download-the-materials-project-database](https://docs.materialsproject.org/downloading-data/how-do-i-download-the-materials-project-database)"
      ],
      "metadata": {
        "id": "YbxLvZ2Ze5FX"
      }
    },
    {
      "cell_type": "markdown",
      "source": [
        "<font color=skyblue size=5>5. 비고</font>\n",
        "\n",
        "- API를 많이 사용할 계획이 있다면, heavy.api.use@materialsproject.org로 미리 알리는 것을 권장함.\n",
        "\n",
        "- API rate limit : 0.04 s/call ( 25 calls/s )"
      ],
      "metadata": {
        "id": "FWFJhKVbb8k8"
      }
    },
    {
      "cell_type": "markdown",
      "source": [
        "![image.png](data:image/png;base64,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)"
      ],
      "metadata": {
        "id": "GSFIvfuwduFS"
      }
    },
    {
      "cell_type": "markdown",
      "source": [
        "- pymatgen에서 제공하는 MP API는 2021.03.13 이후로 데이터가 업데이트되지 않음\n",
        "- GNoME이나 OCP22 데이터는 새로운 API로만 다운받을 수 있음"
      ],
      "metadata": {
        "id": "Q98hI0pQd6VM"
      }
    }
  ]
}